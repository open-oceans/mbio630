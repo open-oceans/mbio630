{
 "cells": [
  {
   "cell_type": "markdown",
   "id": "57642586",
   "metadata": {},
   "source": [
    "# Remote Sensing Applications in Marine Science\n",
    "\n",
    "This section taught by Dr. Samapriya Roy delves into the fundamental concepts and practical applications of remote sensing in the context of marine science. This portion of the course is designed to help students explore and gain a deep understanding of remote sensing data, its sources, and its role in advancing research. The course also provides insights into alternative career paths for those with a Ph.D. in the field, offering a unique\n",
    "perspective on career options beyond academia.\n",
    "\n",
    "## Mandatory readings\n",
    "\n",
    "- FAIR Guiding Principles for scientific data management and stewardship ([Project website](https://www.go-fair.org/fair-principles))\n",
    "- The FAIR Guiding Principles for scientific data management and stewardship ([Paper](https://www.nature.com/articles/sdata201618)|[PDF](https://www.nature.com/articles/sdata201618.pdf))\n",
    "- NSF Data Management Plans ([Website](https://new.nsf.gov/funding/data-management-plan) | [Geo Data policies](https://www.nsf.gov/geo/geo-data-policies/index.jsp))\n",
    "\n",
    "## Recommended Reading\n",
    "\n",
    "- Google Earth Engine: Planetary-scale geospatial analysis for everyone ([Paper](https://www.sciencedirect.com/science/article/pii/S0034425717302900))"
   ]
  }
 ],
 "metadata": {
  "jupytext": {
   "text_representation": {
    "extension": ".md",
    "format_name": "myst",
    "format_version": 0.13,
    "jupytext_version": "1.11.5"
   }
  },
  "kernelspec": {
   "display_name": "Python 3",
   "language": "python",
   "name": "python3"
  },
  "source_map": [
   12
  ]
 },
 "nbformat": 4,
 "nbformat_minor": 5
}