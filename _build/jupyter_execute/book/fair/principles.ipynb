{
 "cells": [
  {
   "cell_type": "markdown",
   "id": "7499760d",
   "metadata": {},
   "source": [
    "# FAIR Principles in Science\n",
    "\n",
    "The FAIR principles, which stand for Findability, Accessibility, Interoperability, and Reuse, provide a framework for enhancing the management and usability of digital assets in the realm of scientific research. These principles are vital in ensuring that research data and digital resources are well-organized, accessible, and can be effectively reused.\n",
    "\n",
    "## Findability\n",
    "\n",
    "* **Findability** emphasizes the importance of making digital assets easily discoverable. Researchers and scientists should be able to locate relevant data and resources with minimal effort. The metadata of digital assets plays a crucial role in achieving findability. [Learn more about Findability](https://www.go-fair.org/fair-principles/f1-findable/)\n",
    "\n",
    "## Accessibility\n",
    "\n",
    "* **Accessibility** involves ensuring that digital assets are accessible to a wide audience, including those with disabilities, without restrictions. This principle aims to remove barriers to accessing data and digital resources. [Learn more about Accessibility](https://www.go-fair.org/fair-principles/f2-accessible/)\n",
    "\n",
    "```{figure} images/fair_main.png\n",
    "---\n",
    "name: ch01_google_trends\n",
    "width: 80%\n",
    "---\n",
    "Drawing from challenges and pieces of FAIR framework. [Source](https://scibite.com/solutions/enterprise-fair-data-mdm/)\n",
    "```\n",
    "\n",
    "## Interoperability\n",
    "\n",
    "* **Interoperability** focuses on the compatibility and integration of digital assets. Data and resources should be structured in a way that allows for seamless interaction and analysis across various platforms and tools. [Learn more about Interoperability](https://www.go-fair.org/fair-principles/f3-interoperable/)\n",
    "\n",
    "## Reuse\n",
    "\n",
    "* **Reuse** encourages the effective utilization of digital assets beyond their initial purpose. Researchers should be able to use and build upon existing data and resources to drive scientific progress. [Learn more about Reuse](https://www.go-fair.org/fair-principles/f4-reusable/)\n",
    "\n",
    "Adhering to these FAIR principles is essential for advancing scientific research, fostering collaboration, and ensuring the longevity of digital assets. It enables researchers to harness the full potential of data and resources, contributing to the growth of knowledge and innovation."
   ]
  }
 ],
 "metadata": {
  "jupytext": {
   "text_representation": {
    "extension": ".md",
    "format_name": "myst",
    "format_version": 0.13,
    "jupytext_version": "1.11.5"
   }
  },
  "kernelspec": {
   "display_name": "Python 3",
   "language": "python",
   "name": "python3"
  },
  "source_map": [
   12
  ]
 },
 "nbformat": 4,
 "nbformat_minor": 5
}