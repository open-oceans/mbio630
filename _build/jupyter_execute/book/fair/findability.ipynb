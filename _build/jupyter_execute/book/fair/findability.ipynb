{
 "cells": [
  {
   "cell_type": "markdown",
   "id": "8c406e4a",
   "metadata": {},
   "source": [
    "# Data Findability\n",
    "\n",
    "Findability emphasizes the importance of making digital assets easily discoverable. Researchers and scientists should be able to locate relevant data and resources with minimal effort. The metadata of digital assets plays a crucial role in achieving findability. Data findability is the cornerstone of the FAIR principles, ensuring that valuable research data is not lost in the vast sea of information. By embracing standardized metadata, PIDs, and data repositories, researchers can discover data effectively.\n",
    "\n",
    "Simultaneously, making your data more findable through robust metadata, documentation, and proper licensing will contribute to the broader success of the scientific community.\n",
    "\n",
    "## Recommended things to look for with Data\n",
    "\n",
    "- Metadata: To enhance data findability, the use of rich metadata is essential. Metadata provides descriptive information about the dataset, making it easier for researchers to identify relevant data. Common metadata elements include title, author, date, keywords, and a brief description. To effectively search for data, use standardized and domain-specific metadata standards.\n",
    "\n",
    "- Data Repositories: Utilize reputable data repositories. These platforms are designed to adhere to FAIR principles and facilitate data discovery. Examples include [Dryad](https://datadryad.org/search), [Figshare](https://figshare.com/browse), and [Zenodo](https://zenodo.org/). Researchers can search these repositories by using keywords, filters, and categories to locate datasets. While this is true large amount of data can be found outside these versioned repositores on FTP sites and hosted on websites through a hosting service.\n",
    "\n",
    "- Persistent Identifiers (PIDs): PIDs, such as DOIs (Digital Object Identifiers), provide a unique and permanent reference to data. Using PIDs in publications and data descriptions ensures that others can easily find the referenced data, even if its location changes.\n",
    "\n",
    "- Search Engines: General and domain-specific search engines are powerful tools for discovering data. Google Scholar and specialized search engines like DataONE can help researchers locate data relevant to their interests.\n",
    "\n",
    "\n",
    " ```{note}\n",
    " Extra things to look for\n",
    " ```\n",
    "\n",
    "Things to look for when searching for data\n",
    "\n",
    "**Data Authority:**\n",
    "\n",
    "Data authority refers to the concept of having a designated entity or individual responsible for the governance, quality, and accuracy of data within an organization or system. This role is critical in ensuring that data is trustworthy and reliable. Data authority entails defining who has the right to create, modify, or validate data, as well as the processes and controls in place to maintain data integrity.\n",
    "\n",
    "**Data Mutability:**\n",
    "\n",
    "Data mutability refers to the ability to change or modify data. In the context of data management, mutability is an important consideration. Some data, such as historical records or immutable identifiers like social security numbers, should have limited mutability to maintain data integrity. In contrast, other data, such as transactional data or dynamic records, must be mutable to reflect real-time changes accurately.\n",
    "\n",
    "Effective data management strategies consider the balance between data mutability and immutability. While certain data should remain unaltered for historical or compliance reasons, other data requires constant updates to provide meaningful insights. Managing data mutability involves defining access controls, versioning, and auditing to ensure that changes are recorded and tracked appropriately.\n",
    "\n",
    "**Data Derivatives:**\n",
    "\n",
    "Data derivatives are new datasets or information products that are generated from existing data. These derivatives can take many forms, such as reports, summaries, analytics, and visualizations. They are essential for extracting valuable insights and making informed decisions based on raw data.\n",
    "\n",
    "Data derivatives play a crucial role in data analysis and decision-making. They enable organizations to process and present data in a more digestible and actionable format. For example, a financial institution might create derivative reports summarizing customer transaction data to assess investment opportunities. These reports are generated from raw transaction data but offer a more insightful perspective.\n",
    "\n",
    "Effective data derivative creation involves understanding the specific needs of end-users, data modeling, transformation, and visualization techniques. By generating meaningful derivatives, organizations can extract actionable insights from their data, driving informed decision-making."
   ]
  }
 ],
 "metadata": {
  "jupytext": {
   "text_representation": {
    "extension": ".md",
    "format_name": "myst",
    "format_version": 0.13,
    "jupytext_version": "1.11.5"
   }
  },
  "kernelspec": {
   "display_name": "Python 3",
   "language": "python",
   "name": "python3"
  },
  "source_map": [
   12
  ]
 },
 "nbformat": 4,
 "nbformat_minor": 5
}