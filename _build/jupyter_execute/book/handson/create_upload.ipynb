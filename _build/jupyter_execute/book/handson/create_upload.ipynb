{
 "cells": [
  {
   "cell_type": "markdown",
   "id": "8bdc4304",
   "metadata": {},
   "source": [
    "# Create or Upload files\n",
    "At this stage, most of the essential work is completed. Now, it's time to incorporate or generate data – feel free to upload your CSV files, drone\n",
    "imagery, or field data files. I strongly suggest including notes and metadata for your files; these not only delineate your data's structure but\n",
    "also provide clarity on the content and purpose of each file.\n",
    "\n",
    "\n",
    "```{note}\n",
    " Consider the GitHub file size recommendations from the earlier section before uploads\n",
    "```\n",
    "\n",
    "## Adding notes and metadata\n",
    "\n",
    "Adding notes and metadata to a GitHub repository or data repository is essential for providing context and insights about the contents. It helps\n",
    "users understand the purpose, source, and structure of the data or code, making it easier to navigate and utilize the repository. Metadata enhances\n",
    "discoverability and facilitates collaboration by offering a clear roadmap for others interested in working with the repository.\n",
    "\n",
    "```{figure} images/metadata.gif\n",
    "---\n",
    "name: adding metadata\n",
    "width: 80%\n",
    "---\n",
    "Add notes and metadata to a GitHub repository or data repository\n",
    "```\n",
    "\n",
    "## Upload files\n",
    "\n",
    "Next up let's upload some image or tabular data to your GitHub repository, anything you have generated/collected as part of this course is fine.\n",
    "Whether you have drone imagery, CSV files, or other data assets, the process is relatively simple and can greatly enhance the accessibility and\n",
    "utility of your repository.\n",
    "\n",
    "```{figure} images/upload_imagery.gif\n",
    "---\n",
    "name: uploading & adding files\n",
    "width: 80%\n",
    "---\n",
    "Upload some image or tabular data to your GitHub repository\n",
    "```\n",
    "\n",
    "### Steps for uploading files\n",
    "\n",
    "1. **Access your Repository:** Begin by navigating to your GitHub repository where you intend to add the data. If you don't have a repository yet, you can create one following the guidelines in the previous section.\n",
    "\n",
    "2. **Choose the Data Location:** Decide on the directory or folder within your repository where the data should reside. You can either add it to an existing directory or create a new one for organization purposes.\n",
    "\n",
    "3. **Upload Data:** To upload your data, click on the \"Add file\" or \"Upload files\" button in the chosen directory. You can then drag and drop the files or select them from your local storage. If your data includes multiple files, you can select and upload them simultaneously.\n",
    "\n",
    "4. **Commit Changes:** After the data files are uploaded, you'll be prompted to provide a brief description of the changes. It's a good practice to mention that you've added data files and any relevant information about them. This step is crucial for tracking changes in your repository's history.\n",
    "\n",
    "5. **Create Documentation:** To enhance the usability of your data, consider creating a README.md file in the same directory where you uploaded the data. In this file, you can include details about the data, its structure, its source, and any important notes for users. This documentation helps others understand and work with the data effectively.\n",
    "\n",
    "6. **Commit Changes Again:** Don't forget to commit the changes you made to the README.md file."
   ]
  }
 ],
 "metadata": {
  "jupytext": {
   "text_representation": {
    "extension": ".md",
    "format_name": "myst",
    "format_version": 0.13,
    "jupytext_version": "1.11.5"
   }
  },
  "kernelspec": {
   "display_name": "Python 3",
   "language": "python",
   "name": "python3"
  },
  "source_map": [
   12
  ]
 },
 "nbformat": 4,
 "nbformat_minor": 5
}