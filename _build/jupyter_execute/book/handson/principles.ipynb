{
 "cells": [
  {
   "cell_type": "markdown",
   "id": "30d39810",
   "metadata": {},
   "source": [
    "# Getting Started\n",
    "This portion of the module will walk you through getting started with bringing your own data and uploading it into a FAIR complaint data repository. We will work with the following steps\n",
    "* Setting up a Zenodo account\n",
    "* Linking your Github account to Zenodo\n",
    "* Creating a data repository and uploading data\n",
    "* Creating a Zenodo release and minting DOI\n",
    "* Uploading directly to Zenodo\n",
    "\n",
    "## Setting up a Zenodo account\n",
    "Although having a GitHub account is not mandatory for Zenodo usage, we'll demonstrate how to automate the creation of your data releases and acquire\n",
    "your DOI and data citation information by using one. Linking your GitHub account to Zenodo is an optional step, and your use of Zenodo can proceed\n",
    "without it, depending on your specific requirements and preferences.\n",
    "\n",
    "```{figure} images/zenodo_signup.gif\n",
    "---\n",
    "name: zenodo_login\n",
    "width: 90%\n",
    "---\n",
    "Logging into your Github repository and linking it to Zenodo\n",
    "```\n",
    "\n",
    "\n",
    "```{note}\n",
    " Some things to consider\n",
    "```\n",
    "\n",
    "- While I recommend using a GitHub account for sharing code and certain data, please be aware of file size limitations, typically capped around 100\n",
    "MB. For larger files, consider breaking them into smaller segments. Additionally, the maximum size for a repository varies, generally ranging from 1\n",
    "to 5 GB. However, this process is more automated, with most information flowing seamlessly from GitHub to Zenodo.\n",
    "\n",
    "- To overcome these size constraints, I will also guide you on how to establish a data repository directly in Zenodo. Here, each file can be as\n",
    "large as 50 GB, and there are virtually no limitations on the total number of files you can upload per release. This approach offers a higher degree\n",
    "of manual control over data organization, which some users may find advantageous."
   ]
  }
 ],
 "metadata": {
  "jupytext": {
   "text_representation": {
    "extension": ".md",
    "format_name": "myst",
    "format_version": 0.13,
    "jupytext_version": "1.11.5"
   }
  },
  "kernelspec": {
   "display_name": "Python 3",
   "language": "python",
   "name": "python3"
  },
  "source_map": [
   12
  ]
 },
 "nbformat": 4,
 "nbformat_minor": 5
}