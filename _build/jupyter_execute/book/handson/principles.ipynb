{
 "cells": [
  {
   "cell_type": "markdown",
   "id": "b187b695",
   "metadata": {},
   "source": [
    "# Zenodo Setup\n",
    "\n",
    "This will walk you through a walk through of how to upload data into a Github repository, link it to Zenodo and publish and mint your first DOI and data citation.\n",
    "\n",
    "```{figure} images/zenodo_login.gif\n",
    "---\n",
    "name: zenodo_login\n",
    "width: 80%\n",
    "---\n",
    "Logging into your Github repository and linking it to Zenodo\n",
    "```"
   ]
  }
 ],
 "metadata": {
  "jupytext": {
   "text_representation": {
    "extension": ".md",
    "format_name": "myst",
    "format_version": 0.13,
    "jupytext_version": "1.11.5"
   }
  },
  "kernelspec": {
   "display_name": "Python 3",
   "language": "python",
   "name": "python3"
  },
  "source_map": [
   12
  ]
 },
 "nbformat": 4,
 "nbformat_minor": 5
}