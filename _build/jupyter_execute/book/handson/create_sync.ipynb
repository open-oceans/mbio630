{
 "cells": [
  {
   "cell_type": "markdown",
   "id": "3be89c48",
   "metadata": {},
   "source": [
    "# Create and Sync GitHub Repository\n",
    "Once you have a Zenodo account created the next step included linked to Github you can turn on syc in Zenodo.\n",
    "\n",
    "## Creating a GitHub repository\n",
    "\n",
    "This procedure is straightforward and likely a task you've already tackled. The act of creating a GitHub repository (commonly known as a \"repo\")\n",
    "empowers you with version control for your code and data, enabling comprehensive documentation and consolidation in a single location. Moreover, it\n",
    "facilitates collaboration with peers and adeptly manages version updates as required.\n",
    "\n",
    "```{figure} images/github_new_repo.gif\n",
    "---\n",
    "name: github_new_repo\n",
    "width: 80%\n",
    "---\n",
    "Create a new Github repository to link with Zenodo\n",
    "```\n",
    "\n",
    "## Initiating Zenodo Synchronization\n",
    "This step straightforwardly synchronizes your GitHub repository releases with Zenodo. This synchronization is imperative to ensure that your\n",
    "repository releases automatically activate Zenodo actions, resulting in the generation of an updated DOI and citation.\n",
    "\n",
    "```{figure} images/zenodo_setup_sync.gif\n",
    "---\n",
    "name: zendo_sync\n",
    "width: 80%\n",
    "---\n",
    "Turning on sync between your GitHub repository and Zenodo\n",
    "```"
   ]
  }
 ],
 "metadata": {
  "jupytext": {
   "text_representation": {
    "extension": ".md",
    "format_name": "myst",
    "format_version": 0.13,
    "jupytext_version": "1.11.5"
   }
  },
  "kernelspec": {
   "display_name": "Python 3",
   "language": "python",
   "name": "python3"
  },
  "source_map": [
   12
  ]
 },
 "nbformat": 4,
 "nbformat_minor": 5
}