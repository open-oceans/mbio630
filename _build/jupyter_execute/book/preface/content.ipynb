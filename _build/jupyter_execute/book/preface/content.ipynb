{
 "cells": [
  {
   "cell_type": "markdown",
   "id": "aed8b825",
   "metadata": {},
   "source": [
    "# Syllabus\n",
    "\n",
    "You can find the syllabus for my portion of the module here\n",
    "\n",
    "<iframe src=\"https://docs.google.com/document/d/143GlT2j6Oprs4m085jtGfhH1U3cq_2JAhnoD50BW1ac/edit?usp=sharing\" width=\"100%\" height=800></iframe>"
   ]
  }
 ],
 "metadata": {
  "jupytext": {
   "text_representation": {
    "extension": ".md",
    "format_name": "myst",
    "format_version": 0.13,
    "jupytext_version": "1.11.5"
   }
  },
  "kernelspec": {
   "display_name": "Python 3",
   "language": "python",
   "name": "python3"
  },
  "source_map": [
   12
  ]
 },
 "nbformat": 4,
 "nbformat_minor": 5
}