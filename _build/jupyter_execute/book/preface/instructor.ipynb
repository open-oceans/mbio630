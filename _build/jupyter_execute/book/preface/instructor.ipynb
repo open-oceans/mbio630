{
 "cells": [
  {
   "cell_type": "markdown",
   "id": "5aee3729",
   "metadata": {},
   "source": [
    "# Instructor\n",
    "\n",
    "```{only} html\n",
    "[![GitHub](https://img.shields.io/badge/GitHub-100000?style=plastic&logo=github&logoColor=white)](https://github.com/Samapriya)\n",
    "[![LinkedIn](https://img.shields.io/badge/LinkedIn-0077B5?style=plastic&logo=linkedin&logoColor=white)](https://www.linkedin.com/in/samapriya/)\n",
    "[![Medium](https://img.shields.io/badge/Medium-12100E?style=flat&logo=medium&logoColor=white)](https://medium.com/@samapriyaroy)\n",
    "[![Twitter URL](https://img.shields.io/twitter/follow/samapriyaroy?style=social)](https://twitter.com/intent/follow?screen_name=samapriyaroy)\n",
    "[![GDE Badge](https://img.shields.io/badge/GDE-Google%20Earth%20Engine-orange)](https://g.dev/samapriya)\n",
    "```\n",
    "\n",
    "Dr. Samapriya Roy is a expert in geospatial technologies with over a decade of experience building applications, teaching, and advocating for open access to data and tools.Currently a Senior Product Manager at MAXAR developing developer APIs, Samapriya is also the creator of the [Awesome Google Earth Engine Community Catalog](https://gee-community-catalog.org/) an open platform empowering users with geospatial data.\n",
    "\n",
    "He is a [Google Developer Expert for Google Earth Engine](https://g.dev/samapriya) and as an affiliate faculty at the University of Hawaiʻi and the University of Arizona, he teaches geospatial analysis and champions scientific communication and community building. His research applies big data, cloud computing and geospatial technology to tackle sustainability challenges while advocating open source values.\n",
    "\n",
    "Samapriya firmly believes in the power of fostering participatory commons around data, code, and platforms for mutual benefit. He is a speaker, and community advocate driving open data innovation through projects like the Community Catalog.You can explore more of his work at GitHub repository: <https://github.com/samapriya> and [Open Oceans](https://openoceans.xyz) to see his commitment to leveraging technology for ocean conservation and social good."
   ]
  }
 ],
 "metadata": {
  "jupytext": {
   "text_representation": {
    "extension": ".md",
    "format_name": "myst",
    "format_version": 0.13,
    "jupytext_version": "1.11.5"
   }
  },
  "kernelspec": {
   "display_name": "Python 3",
   "language": "python",
   "name": "python3"
  },
  "source_map": [
   12
  ]
 },
 "nbformat": 4,
 "nbformat_minor": 5
}