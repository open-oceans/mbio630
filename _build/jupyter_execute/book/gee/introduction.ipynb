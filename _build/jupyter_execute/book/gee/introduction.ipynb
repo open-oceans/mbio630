{
 "cells": [
  {
   "cell_type": "markdown",
   "id": "59c69a93",
   "metadata": {},
   "source": [
    "# Google Earth Engine <small>Browser Based Remote Sensing</small>\n",
    "\n",
    "Google Earth Engine brings the power of remote sensing analysis into the browser. With just an internet connection, anyone can tap into this cloud-based platform to process and query massive geospatial datasets.\n",
    "\n",
    "Earth Engine levels the playing field for working with satellite imagery and raster data at scale. It hosts one of the largest repositories of open geospatial assets, while ingesting new data continuously. Users can perform analysis across these indexed layers, going from local to global, using JavaScript and Python SDKs. The cloud infrastructure allows researchers to iterate rapidly and run computations on petabytes of data. Results are shareable, published outputs that ensure reproducibility. Earth Engine simplifies the process from data access to analysis to dissemination.\n",
    "\n",
    "By moving intensive processing into the cloud, Earth Engine makes remote sensing more accessible. Users now wield these capabilities through any web browser. This democratization of geospatial analytics opens up new possibilities for applications across numerous domains.\n",
    "\n",
    "```{figure} images/ee_wheel.png\n",
    "---\n",
    "name: GEE wheel\n",
    "width: 20%\n",
    "---\n",
    "```\n",
    "\n",
    "You can read more about the Google Earth Engine platform [here](https://www.sciencedirect.com/science/article/pii/S0034425717302900)\n",
    "\n",
    "```{figure} images/paper_snippet.jpg\n",
    "---\n",
    "name: GEE paper snippet\n",
    "width: 80%\n",
    "---\n",
    "Snippet from the Google Earth Engine main paper. [Source](https://www.sciencedirect.com/science/article/pii/S0034425717302900)\n",
    "```"
   ]
  }
 ],
 "metadata": {
  "jupytext": {
   "text_representation": {
    "extension": ".md",
    "format_name": "myst",
    "format_version": 0.13,
    "jupytext_version": "1.11.5"
   }
  },
  "kernelspec": {
   "display_name": "Python 3",
   "language": "python",
   "name": "python3"
  },
  "source_map": [
   12
  ]
 },
 "nbformat": 4,
 "nbformat_minor": 5
}