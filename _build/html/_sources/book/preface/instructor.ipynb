{
 "cells": [
  {
   "cell_type": "markdown",
   "id": "6437c382",
   "metadata": {},
   "source": [
    "# Instructor\n",
    "\n",
    "```{only} html\n",
    "[![LinkedIn](https://img.shields.io/badge/LinkedIn-0077B5?style=plastic&logo=linkedin&logoColor=white)](https://www.linkedin.com/in/samapriya/)\n",
    "[![Medium](https://img.shields.io/badge/Medium-12100E?style=flat&logo=medium&logoColor=white)](https://medium.com/@samapriyaroy)\n",
    "[![Twitter URL](https://img.shields.io/twitter/follow/samapriyaroy?style=social)](https://twitter.com/intent/follow?screen_name=samapriyaroy)\n",
    "[![Mastodon Follow](https://img.shields.io/mastodon/follow/109627075086849826?domain=https%3A%2F%2Fmapstodon.space%2F)](https://mapstodon.space/@samapriya)\n",
    "```\n",
    "\n",
    "Over the last decade or more I have been working with all things geospatial applications, teaching, training and acting as a translator at large for technology needs. I am a Senior Product Manager at MAXAR incharge of building the Developer Relations team and core APIs. I am the creator of [Awesome Google Earth Engine Community Catalog](https://gee-community-catalog.org/). I am also an affiliate Faculty at University of Hawaiʻi at Mānoa and Designated Campus Colleague at the University of Arizona. I advocate for science communication, serve as a thought leader, and teach geospatial applications. I believe in fostering community and commons-based data, tools, and platforms for mutual benefit. My research delves into big data analysis and geospatial technology's applications, while championing open data access. A passionate community advocate, and a speaker I like to drive ideas. You can find most of my open source projects on my Github repo https://github.com/samapriya and explore some projects on ocean data and tools at openoceans.xyz"
   ]
  }
 ],
 "metadata": {
  "jupytext": {
   "text_representation": {
    "extension": ".md",
    "format_name": "myst",
    "format_version": 0.13,
    "jupytext_version": "1.11.5"
   }
  },
  "kernelspec": {
   "display_name": "Python 3",
   "language": "python",
   "name": "python3"
  },
  "source_map": [
   12
  ]
 },
 "nbformat": 4,
 "nbformat_minor": 5
}